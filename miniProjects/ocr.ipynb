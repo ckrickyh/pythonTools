{
 "cells": [
  {
   "cell_type": "code",
   "execution_count": null,
   "id": "56ea1ccb",
   "metadata": {},
   "outputs": [],
   "source": [
    "#%pip install paddlepaddle -i https://www.paddlepaddle.org.cn/packages/stable/cpu/\n",
    "#%pip install paddleocr"
   ]
  },
  {
   "cell_type": "code",
   "execution_count": null,
   "id": "89673d6e",
   "metadata": {},
   "outputs": [],
   "source": [
    "from pathlib import Path\n",
    "from paddleocr import PaddleOCR \n",
    "import pandas as pd\n",
    "import re"
   ]
  },
  {
   "cell_type": "code",
   "execution_count": null,
   "id": "946afa29",
   "metadata": {},
   "outputs": [],
   "source": [
    "ocr = PaddleOCR(\n",
    "    use_doc_orientation_classify=False,\n",
    "    use_doc_unwarping=False,\n",
    "    use_textline_orientation=False)\n",
    "\n",
    "#ocr = PaddleOCR(\n",
    "#    use_doc_orientation_classify=False, # Disables document orientation classification model via this parameter\n",
    "#    use_doc_unwarping=False, # Disables text image rectification model via this parameter\n",
    "#    use_textline_orientation=False, # Disables text line orientation classification model via this parameter\n",
    "#)\n",
    "\n",
    "# ocr = PaddleOCR(lang=\"en\") # Uses English model by specifying language parameter\n",
    "# ocr = PaddleOCR(ocr_version=\"PP-OCRv4\") # Uses other PP-OCR versions via version parameter\n",
    "# ocr = PaddleOCR(device=\"gpu\") # Enables GPU acceleration for model inference via device parameter\n",
    "#ocr = PaddleOCR(\n",
    "#        #device=\"gpu\",\n",
    "#        text_detection_model_name=\"PP-OCRv5_mobile_det\",\n",
    "#        text_recognition_model_name=\"PP-OCRv5_mobile_rec\",\n",
    "#        use_doc_orientation_classify=True,\n",
    "#        use_doc_unwarping=False,\n",
    "#        use_textline_orientation=True,\n",
    "# ) # Switch to PP-OCRv5_mobile models"
   ]
  },
  {
   "cell_type": "code",
   "execution_count": null,
   "id": "6098f8a6",
   "metadata": {},
   "outputs": [
    {
     "name": "stdout",
     "output_type": "stream",
     "text": [
      "scan filePath: C:\\Users\\Adm\\Desktop\\pytest\\IMG_0006.JPG\n"
     ]
    },
    {
     "name": "stderr",
     "output_type": "stream",
     "text": [
      "\u001b[32m{'res': {'input_path': 'C:\\\\Users\\\\Adm\\\\Desktop\\\\pytest\\\\IMG_0006.JPG', 'page_index': None, 'model_settings': {'use_doc_preprocessor': True, 'use_textline_orientation': False}, 'doc_preprocessor_res': {'input_path': None, 'page_index': None, 'model_settings': {'use_doc_orientation_classify': False, 'use_doc_unwarping': False}, 'angle': -1}, 'dt_polys': array([[[299, 278],\n",
      "        ...,\n",
      "        [299, 306]],\n",
      "\n",
      "       ...,\n",
      "\n",
      "       [[511, 589],\n",
      "        ...,\n",
      "        [511, 600]]], shape=(9, 4, 2), dtype=int16), 'text_det_params': {'limit_side_len': 64, 'limit_type': 'min', 'thresh': 0.3, 'max_side_limit': 4000, 'box_thresh': 0.6, 'unclip_ratio': 1.5}, 'text_type': 'general', 'textline_orientation_angles': array([-1, ..., -1], shape=(9,)), 'text_rec_score_thresh': 0.0, 'rec_texts': ['T0433', 'Whole', 'view', '54', '13/08/2025', '=，', 'T', '田', '更多工具'], 'rec_scores': array([0.99624634, ..., 0.86230665], shape=(9,)), 'rec_polys': array([[[299, 278],\n",
      "        ...,\n",
      "        [299, 306]],\n",
      "\n",
      "       ...,\n",
      "\n",
      "       [[511, 589],\n",
      "        ...,\n",
      "        [511, 600]]], shape=(9, 4, 2), dtype=int16), 'rec_boxes': array([[299, ..., 306],\n",
      "       ...,\n",
      "       [511, ..., 600]], shape=(9, 4), dtype=int16)}}\u001b[0m\n"
     ]
    },
    {
     "name": "stdout",
     "output_type": "stream",
     "text": [
      "dict_keys(['input_path', 'page_index', 'doc_preprocessor_res', 'dt_polys', 'model_settings', 'text_det_params', 'text_type', 'text_rec_score_thresh', 'rec_texts', 'rec_scores', 'rec_polys', 'vis_fonts', 'textline_orientation_angles', 'rec_boxes'])\n",
      "inputPath: C:\\Users\\Adm\\Desktop\\pytest\\IMG_0006.JPG\n",
      "{'limit_side_len': 64, 'limit_type': 'min', 'thresh': 0.3, 'max_side_limit': 4000, 'box_thresh': 0.6, 'unclip_ratio': 1.5}\n",
      "['T0433', 'Whole', 'view', '54', '13/08/2025', '=，', 'T', '田', '更多工具'] [0.996246337890625, 0.9980646967887878, 0.9950081706047058, 0.9979003667831421, 0.9996752738952637, 0.4812706708908081, 0.9987766146659851, 0.5650695562362671, 0.8623066544532776]\n",
      "scan filePath: C:\\Users\\Adm\\Desktop\\pytest\\IMG_0007.JPG\n"
     ]
    },
    {
     "name": "stderr",
     "output_type": "stream",
     "text": [
      "\u001b[32m{'res': {'input_path': 'C:\\\\Users\\\\Adm\\\\Desktop\\\\pytest\\\\IMG_0007.JPG', 'page_index': None, 'model_settings': {'use_doc_preprocessor': True, 'use_textline_orientation': False}, 'doc_preprocessor_res': {'input_path': None, 'page_index': None, 'model_settings': {'use_doc_orientation_classify': False, 'use_doc_unwarping': False}, 'angle': -1}, 'dt_polys': array([[[299, 535],\n",
      "        ...,\n",
      "        [299, 552]],\n",
      "\n",
      "       [[385, 569],\n",
      "        ...,\n",
      "        [381, 580]]], shape=(2, 4, 2), dtype=int16), 'text_det_params': {'limit_side_len': 64, 'limit_type': 'min', 'thresh': 0.3, 'max_side_limit': 4000, 'box_thresh': 0.6, 'unclip_ratio': 1.5}, 'text_type': 'general', 'textline_orientation_angles': array([-1, -1], shape=(2,)), 'text_rec_score_thresh': 0.0, 'rec_texts': ['13/08/2025', 'DRILTECH'], 'rec_scores': array([0.9924835 , 0.92678946], shape=(2,)), 'rec_polys': array([[[299, 535],\n",
      "        ...,\n",
      "        [299, 552]],\n",
      "\n",
      "       [[385, 569],\n",
      "        ...,\n",
      "        [381, 580]]], shape=(2, 4, 2), dtype=int16), 'rec_boxes': array([[299, ..., 552],\n",
      "       [381, ..., 594]], shape=(2, 4), dtype=int16)}}\u001b[0m\n"
     ]
    },
    {
     "name": "stdout",
     "output_type": "stream",
     "text": [
      "dict_keys(['input_path', 'page_index', 'doc_preprocessor_res', 'dt_polys', 'model_settings', 'text_det_params', 'text_type', 'text_rec_score_thresh', 'rec_texts', 'rec_scores', 'rec_polys', 'vis_fonts', 'textline_orientation_angles', 'rec_boxes'])\n",
      "inputPath: C:\\Users\\Adm\\Desktop\\pytest\\IMG_0007.JPG\n",
      "{'limit_side_len': 64, 'limit_type': 'min', 'thresh': 0.3, 'max_side_limit': 4000, 'box_thresh': 0.6, 'unclip_ratio': 1.5}\n",
      "['13/08/2025', 'DRILTECH'] [0.9924834966659546, 0.9267894625663757]\n",
      "scan filePath: C:\\Users\\Adm\\Desktop\\pytest\\IMG_0008.JPG\n"
     ]
    },
    {
     "name": "stderr",
     "output_type": "stream",
     "text": [
      "\u001b[32m{'res': {'input_path': 'C:\\\\Users\\\\Adm\\\\Desktop\\\\pytest\\\\IMG_0008.JPG', 'page_index': None, 'model_settings': {'use_doc_preprocessor': True, 'use_textline_orientation': False}, 'doc_preprocessor_res': {'input_path': None, 'page_index': None, 'model_settings': {'use_doc_orientation_classify': False, 'use_doc_unwarping': False}, 'angle': -1}, 'dt_polys': array([[[183, 525],\n",
      "        ...,\n",
      "        [187, 536]],\n",
      "\n",
      "       [[298, 534],\n",
      "        ...,\n",
      "        [298, 552]]], shape=(2, 4, 2), dtype=int16), 'text_det_params': {'limit_side_len': 64, 'limit_type': 'min', 'thresh': 0.3, 'max_side_limit': 4000, 'box_thresh': 0.6, 'unclip_ratio': 1.5}, 'text_type': 'general', 'textline_orientation_angles': array([-1, -1], shape=(2,)), 'text_rec_score_thresh': 0.0, 'rec_texts': ['DRILTECH', '13/08/2025'], 'rec_scores': array([0.8311581, 0.9978925], shape=(2,)), 'rec_polys': array([[[183, 525],\n",
      "        ...,\n",
      "        [187, 536]],\n",
      "\n",
      "       [[298, 534],\n",
      "        ...,\n",
      "        [298, 552]]], shape=(2, 4, 2), dtype=int16), 'rec_boxes': array([[183, ..., 536],\n",
      "       [298, ..., 552]], shape=(2, 4), dtype=int16)}}\u001b[0m\n"
     ]
    },
    {
     "name": "stdout",
     "output_type": "stream",
     "text": [
      "dict_keys(['input_path', 'page_index', 'doc_preprocessor_res', 'dt_polys', 'model_settings', 'text_det_params', 'text_type', 'text_rec_score_thresh', 'rec_texts', 'rec_scores', 'rec_polys', 'vis_fonts', 'textline_orientation_angles', 'rec_boxes'])\n",
      "inputPath: C:\\Users\\Adm\\Desktop\\pytest\\IMG_0008.JPG\n",
      "{'limit_side_len': 64, 'limit_type': 'min', 'thresh': 0.3, 'max_side_limit': 4000, 'box_thresh': 0.6, 'unclip_ratio': 1.5}\n",
      "['DRILTECH', '13/08/2025'] [0.8311581015586853, 0.9978924989700317]\n",
      "scan filePath: C:\\Users\\Adm\\Desktop\\pytest\\IMG_0009.JPG\n"
     ]
    },
    {
     "name": "stderr",
     "output_type": "stream",
     "text": [
      "\u001b[32m{'res': {'input_path': 'C:\\\\Users\\\\Adm\\\\Desktop\\\\pytest\\\\IMG_0009.JPG', 'page_index': None, 'model_settings': {'use_doc_preprocessor': True, 'use_textline_orientation': False}, 'doc_preprocessor_res': {'input_path': None, 'page_index': None, 'model_settings': {'use_doc_orientation_classify': False, 'use_doc_unwarping': False}, 'angle': -1}, 'dt_polys': array([[[552, 267],\n",
      "        ...,\n",
      "        [552, 294]],\n",
      "\n",
      "       ...,\n",
      "\n",
      "       [[627, 503],\n",
      "        ...,\n",
      "        [627, 528]]], shape=(4, 4, 2), dtype=int16), 'text_det_params': {'limit_side_len': 64, 'limit_type': 'min', 'thresh': 0.3, 'max_side_limit': 4000, 'box_thresh': 0.6, 'unclip_ratio': 1.5}, 'text_type': 'general', 'textline_orientation_angles': array([-1, ..., -1], shape=(4,)), 'text_rec_score_thresh': 0.0, 'rec_texts': ['28-06-2025', 'T0432', 'Wholeview', '13/08/2025'], 'rec_scores': array([0.99370688, ..., 0.99917108], shape=(4,)), 'rec_polys': array([[[552, 267],\n",
      "        ...,\n",
      "        [552, 294]],\n",
      "\n",
      "       ...,\n",
      "\n",
      "       [[627, 503],\n",
      "        ...,\n",
      "        [627, 528]]], shape=(4, 4, 2), dtype=int16), 'rec_boxes': array([[552, ..., 296],\n",
      "       ...,\n",
      "       [627, ..., 528]], shape=(4, 4), dtype=int16)}}\u001b[0m\n"
     ]
    },
    {
     "name": "stdout",
     "output_type": "stream",
     "text": [
      "dict_keys(['input_path', 'page_index', 'doc_preprocessor_res', 'dt_polys', 'model_settings', 'text_det_params', 'text_type', 'text_rec_score_thresh', 'rec_texts', 'rec_scores', 'rec_polys', 'vis_fonts', 'textline_orientation_angles', 'rec_boxes'])\n",
      "inputPath: C:\\Users\\Adm\\Desktop\\pytest\\IMG_0009.JPG\n",
      "{'limit_side_len': 64, 'limit_type': 'min', 'thresh': 0.3, 'max_side_limit': 4000, 'box_thresh': 0.6, 'unclip_ratio': 1.5}\n",
      "['28-06-2025', 'T0432', 'Wholeview', '13/08/2025'] [0.9937068819999695, 0.9903384447097778, 0.9917887449264526, 0.9991710782051086]\n",
      "scan filePath: C:\\Users\\Adm\\Desktop\\pytest\\IMG_0010.JPG\n"
     ]
    },
    {
     "name": "stderr",
     "output_type": "stream",
     "text": [
      "\u001b[32m{'res': {'input_path': 'C:\\\\Users\\\\Adm\\\\Desktop\\\\pytest\\\\IMG_0010.JPG', 'page_index': None, 'model_settings': {'use_doc_preprocessor': True, 'use_textline_orientation': False}, 'doc_preprocessor_res': {'input_path': None, 'page_index': None, 'model_settings': {'use_doc_orientation_classify': False, 'use_doc_unwarping': False}, 'angle': -1}, 'dt_polys': array([[[296, 534],\n",
      "        ...,\n",
      "        [297, 554]]], shape=(1, 4, 2), dtype=int16), 'text_det_params': {'limit_side_len': 64, 'limit_type': 'min', 'thresh': 0.3, 'max_side_limit': 4000, 'box_thresh': 0.6, 'unclip_ratio': 1.5}, 'text_type': 'general', 'textline_orientation_angles': array([-1]), 'text_rec_score_thresh': 0.0, 'rec_texts': ['13/08/2025'], 'rec_scores': array([0.99768716]), 'rec_polys': array([[[296, 534],\n",
      "        ...,\n",
      "        [297, 554]]], shape=(1, 4, 2), dtype=int16), 'rec_boxes': array([[296, ..., 554]], shape=(1, 4), dtype=int16)}}\u001b[0m\n"
     ]
    },
    {
     "name": "stdout",
     "output_type": "stream",
     "text": [
      "dict_keys(['input_path', 'page_index', 'doc_preprocessor_res', 'dt_polys', 'model_settings', 'text_det_params', 'text_type', 'text_rec_score_thresh', 'rec_texts', 'rec_scores', 'rec_polys', 'vis_fonts', 'textline_orientation_angles', 'rec_boxes'])\n",
      "inputPath: C:\\Users\\Adm\\Desktop\\pytest\\IMG_0010.JPG\n",
      "{'limit_side_len': 64, 'limit_type': 'min', 'thresh': 0.3, 'max_side_limit': 4000, 'box_thresh': 0.6, 'unclip_ratio': 1.5}\n",
      "['13/08/2025'] [0.9976871609687805]\n",
      "scan filePath: C:\\Users\\Adm\\Desktop\\pytest\\IMG_0011.JPG\n"
     ]
    },
    {
     "name": "stderr",
     "output_type": "stream",
     "text": [
      "\u001b[32m{'res': {'input_path': 'C:\\\\Users\\\\Adm\\\\Desktop\\\\pytest\\\\IMG_0011.JPG', 'page_index': None, 'model_settings': {'use_doc_preprocessor': True, 'use_textline_orientation': False}, 'doc_preprocessor_res': {'input_path': None, 'page_index': None, 'model_settings': {'use_doc_orientation_classify': False, 'use_doc_unwarping': False}, 'angle': -1}, 'dt_polys': array([[[ 78, 248],\n",
      "        ...,\n",
      "        [ 78, 264]],\n",
      "\n",
      "       ...,\n",
      "\n",
      "       [[536, 578],\n",
      "        ...,\n",
      "        [536, 599]]], shape=(13, 4, 2), dtype=int16), 'text_det_params': {'limit_side_len': 64, 'limit_type': 'min', 'thresh': 0.3, 'max_side_limit': 4000, 'box_thresh': 0.6, 'unclip_ratio': 1.5}, 'text_type': 'general', 'textline_orientation_angles': array([-1, ..., -1], shape=(13,)), 'text_rec_score_thresh': 0.0, 'rec_texts': ['28-06-2025', '28-06-2025', '54', 'holeview', 'T0435Wholeview', 'ADT', '13/08/2025', '註解', '螢光標示', '繪製', '文字', '填寫和簽署', '更多工具'], 'rec_scores': array([0.98068154, ..., 0.9868114 ], shape=(13,)), 'rec_polys': array([[[ 78, 248],\n",
      "        ...,\n",
      "        [ 78, 264]],\n",
      "\n",
      "       ...,\n",
      "\n",
      "       [[536, 578],\n",
      "        ...,\n",
      "        [536, 599]]], shape=(13, 4, 2), dtype=int16), 'rec_boxes': array([[ 78, ..., 264],\n",
      "       ...,\n",
      "       [536, ..., 600]], shape=(13, 4), dtype=int16)}}\u001b[0m\n"
     ]
    },
    {
     "name": "stdout",
     "output_type": "stream",
     "text": [
      "dict_keys(['input_path', 'page_index', 'doc_preprocessor_res', 'dt_polys', 'model_settings', 'text_det_params', 'text_type', 'text_rec_score_thresh', 'rec_texts', 'rec_scores', 'rec_polys', 'vis_fonts', 'textline_orientation_angles', 'rec_boxes'])\n",
      "inputPath: C:\\Users\\Adm\\Desktop\\pytest\\IMG_0011.JPG\n",
      "{'limit_side_len': 64, 'limit_type': 'min', 'thresh': 0.3, 'max_side_limit': 4000, 'box_thresh': 0.6, 'unclip_ratio': 1.5}\n",
      "['28-06-2025', '28-06-2025', '54', 'holeview', 'T0435Wholeview', 'ADT', '13/08/2025', '註解', '螢光標示', '繪製', '文字', '填寫和簽署', '更多工具'] [0.9806815385818481, 0.945273220539093, 0.9993879795074463, 0.9871870279312134, 0.9410895705223083, 0.4743160307407379, 0.9991892576217651, 0.8550659418106079, 0.8042163848876953, 0.6229471564292908, 0.9980134963989258, 0.9335204362869263, 0.9868113994598389]\n",
      "scan filePath: C:\\Users\\Adm\\Desktop\\pytest\\IMG_0012.JPG\n"
     ]
    },
    {
     "name": "stderr",
     "output_type": "stream",
     "text": [
      "\u001b[32m{'res': {'input_path': 'C:\\\\Users\\\\Adm\\\\Desktop\\\\pytest\\\\IMG_0012.JPG', 'page_index': None, 'model_settings': {'use_doc_preprocessor': True, 'use_textline_orientation': False}, 'doc_preprocessor_res': {'input_path': None, 'page_index': None, 'model_settings': {'use_doc_orientation_classify': False, 'use_doc_unwarping': False}, 'angle': -1}, 'dt_polys': array([[[112, 524],\n",
      "        ...,\n",
      "        [111, 535]],\n",
      "\n",
      "       ...,\n",
      "\n",
      "       [[297, 556],\n",
      "        ...,\n",
      "        [296, 570]]], shape=(3, 4, 2), dtype=int16), 'text_det_params': {'limit_side_len': 64, 'limit_type': 'min', 'thresh': 0.3, 'max_side_limit': 4000, 'box_thresh': 0.6, 'unclip_ratio': 1.5}, 'text_type': 'general', 'textline_orientation_angles': array([-1, ..., -1], shape=(3,)), 'text_rec_score_thresh': 0.0, 'rec_texts': ['路政署', '13/08/2025', '人内'], 'rec_scores': array([0.79953843, ..., 0.63223791], shape=(3,)), 'rec_polys': array([[[112, 524],\n",
      "        ...,\n",
      "        [111, 535]],\n",
      "\n",
      "       ...,\n",
      "\n",
      "       [[297, 556],\n",
      "        ...,\n",
      "        [296, 570]]], shape=(3, 4, 2), dtype=int16), 'rec_boxes': array([[111, ..., 537],\n",
      "       ...,\n",
      "       [296, ..., 573]], shape=(3, 4), dtype=int16)}}\u001b[0m\n"
     ]
    },
    {
     "name": "stdout",
     "output_type": "stream",
     "text": [
      "dict_keys(['input_path', 'page_index', 'doc_preprocessor_res', 'dt_polys', 'model_settings', 'text_det_params', 'text_type', 'text_rec_score_thresh', 'rec_texts', 'rec_scores', 'rec_polys', 'vis_fonts', 'textline_orientation_angles', 'rec_boxes'])\n",
      "inputPath: C:\\Users\\Adm\\Desktop\\pytest\\IMG_0012.JPG\n",
      "{'limit_side_len': 64, 'limit_type': 'min', 'thresh': 0.3, 'max_side_limit': 4000, 'box_thresh': 0.6, 'unclip_ratio': 1.5}\n",
      "['路政署', '13/08/2025', '人内'] [0.7995384335517883, 0.99811851978302, 0.6322379112243652]\n",
      "scan filePath: C:\\Users\\Adm\\Desktop\\pytest\\IMG_0013.JPG\n"
     ]
    },
    {
     "name": "stderr",
     "output_type": "stream",
     "text": [
      "\u001b[32m{'res': {'input_path': 'C:\\\\Users\\\\Adm\\\\Desktop\\\\pytest\\\\IMG_0013.JPG', 'page_index': None, 'model_settings': {'use_doc_preprocessor': True, 'use_textline_orientation': False}, 'doc_preprocessor_res': {'input_path': None, 'page_index': None, 'model_settings': {'use_doc_orientation_classify': False, 'use_doc_unwarping': False}, 'angle': -1}, 'dt_polys': array([[[350, 283],\n",
      "        ...,\n",
      "        [350, 311]],\n",
      "\n",
      "       [[627, 503],\n",
      "        ...,\n",
      "        [627, 528]]], shape=(2, 4, 2), dtype=int16), 'text_det_params': {'limit_side_len': 64, 'limit_type': 'min', 'thresh': 0.3, 'max_side_limit': 4000, 'box_thresh': 0.6, 'unclip_ratio': 1.5}, 'text_type': 'general', 'textline_orientation_angles': array([-1, -1], shape=(2,)), 'text_rec_score_thresh': 0.0, 'rec_texts': ['434', '13/08/2025'], 'rec_scores': array([0.99932653, 0.99843663], shape=(2,)), 'rec_polys': array([[[350, 283],\n",
      "        ...,\n",
      "        [350, 311]],\n",
      "\n",
      "       [[627, 503],\n",
      "        ...,\n",
      "        [627, 528]]], shape=(2, 4, 2), dtype=int16), 'rec_boxes': array([[350, ..., 311],\n",
      "       [627, ..., 528]], shape=(2, 4), dtype=int16)}}\u001b[0m\n"
     ]
    },
    {
     "name": "stdout",
     "output_type": "stream",
     "text": [
      "dict_keys(['input_path', 'page_index', 'doc_preprocessor_res', 'dt_polys', 'model_settings', 'text_det_params', 'text_type', 'text_rec_score_thresh', 'rec_texts', 'rec_scores', 'rec_polys', 'vis_fonts', 'textline_orientation_angles', 'rec_boxes'])\n",
      "inputPath: C:\\Users\\Adm\\Desktop\\pytest\\IMG_0013.JPG\n",
      "{'limit_side_len': 64, 'limit_type': 'min', 'thresh': 0.3, 'max_side_limit': 4000, 'box_thresh': 0.6, 'unclip_ratio': 1.5}\n",
      "['434', '13/08/2025'] [0.9993265271186829, 0.9984366297721863]\n",
      "scan filePath: C:\\Users\\Adm\\Desktop\\pytest\\IMG_0014.JPG\n"
     ]
    },
    {
     "name": "stderr",
     "output_type": "stream",
     "text": [
      "\u001b[32m{'res': {'input_path': 'C:\\\\Users\\\\Adm\\\\Desktop\\\\pytest\\\\IMG_0014.JPG', 'page_index': None, 'model_settings': {'use_doc_preprocessor': True, 'use_textline_orientation': False}, 'doc_preprocessor_res': {'input_path': None, 'page_index': None, 'model_settings': {'use_doc_orientation_classify': False, 'use_doc_unwarping': False}, 'angle': -1}, 'dt_polys': array([[[  0, 398],\n",
      "        ...,\n",
      "        [  1, 409]],\n",
      "\n",
      "       ...,\n",
      "\n",
      "       [[297, 534],\n",
      "        ...,\n",
      "        [297, 552]]], shape=(3, 4, 2), dtype=int16), 'text_det_params': {'limit_side_len': 64, 'limit_type': 'min', 'thresh': 0.3, 'max_side_limit': 4000, 'box_thresh': 0.6, 'unclip_ratio': 1.5}, 'text_type': 'general', 'textline_orientation_angles': array([-1, ..., -1], shape=(3,)), 'text_rec_score_thresh': 0.0, 'rec_texts': ['HILTECH', '腰同心行出安全', '13/08/2025'], 'rec_scores': array([0.88492984, ..., 0.99720889], shape=(3,)), 'rec_polys': array([[[  0, 398],\n",
      "        ...,\n",
      "        [  1, 409]],\n",
      "\n",
      "       ...,\n",
      "\n",
      "       [[297, 534],\n",
      "        ...,\n",
      "        [297, 552]]], shape=(3, 4, 2), dtype=int16), 'rec_boxes': array([[  0, ..., 409],\n",
      "       ...,\n",
      "       [297, ..., 552]], shape=(3, 4), dtype=int16)}}\u001b[0m\n"
     ]
    },
    {
     "name": "stdout",
     "output_type": "stream",
     "text": [
      "dict_keys(['input_path', 'page_index', 'doc_preprocessor_res', 'dt_polys', 'model_settings', 'text_det_params', 'text_type', 'text_rec_score_thresh', 'rec_texts', 'rec_scores', 'rec_polys', 'vis_fonts', 'textline_orientation_angles', 'rec_boxes'])\n",
      "inputPath: C:\\Users\\Adm\\Desktop\\pytest\\IMG_0014.JPG\n",
      "{'limit_side_len': 64, 'limit_type': 'min', 'thresh': 0.3, 'max_side_limit': 4000, 'box_thresh': 0.6, 'unclip_ratio': 1.5}\n",
      "['HILTECH', '腰同心行出安全', '13/08/2025'] [0.8849298357963562, 0.8406506180763245, 0.9972088932991028]\n",
      "ready\n",
      "ready\n",
      "ready\n",
      "ready\n",
      "ready\n",
      "ready\n",
      "ready\n",
      "ready\n",
      "ready\n",
      "ready\n",
      "ready\n",
      "ready\n",
      "ready\n",
      "ready\n",
      "ready\n",
      "ready\n",
      "ready\n",
      "ready\n",
      "ready\n",
      "ready\n",
      "ready\n",
      "ready\n",
      "ready\n",
      "ready\n",
      "ready\n",
      "ready\n",
      "ready\n",
      "ready\n",
      "ready\n",
      "ready\n",
      "ready\n",
      "ready\n",
      "ready\n",
      "ready\n",
      "ready\n",
      "ready\n",
      "ready\n",
      "ready\n",
      "ready\n",
      "Done\n"
     ]
    }
   ],
   "source": [
    "def ocrDetection(filePath):\n",
    "  result = ocr.predict(input = filePath)\n",
    "  for res in result:  \n",
    "    res.print()  \n",
    "    #res.save_to_img(\"output\")  \n",
    "    #res.save_to_json(\"output\")\n",
    "\n",
    "  print(res.keys())\n",
    "  print(f'inputPath: {res[\"input_path\"]}')\n",
    "  print(res['text_det_params'])\n",
    "  print(res['rec_texts'], res['rec_scores'])\n",
    "  \n",
    "  ocrResults = {\n",
    "      'input_path': res['input_path'],\n",
    "      'rec_texts': res['rec_texts'],\n",
    "      'rec_scores': res['rec_scores']\n",
    "  }\n",
    "\n",
    "  df = pd.DataFrame(ocrResults)\n",
    "\n",
    "  return df\n",
    "\n",
    "\n",
    "# Function to extract TreeID using regular expressions\n",
    "def extract_tree_id(extract_list):\n",
    "    result_strings = []  # Initialize a list to collect results\n",
    "    \n",
    "    for item in extract_list:\n",
    "        if isinstance(item, str) and re.match(r'TTT@(.*)', item):\n",
    "            match = re.match(r'TTT@(.*)', item)\n",
    "            if match:\n",
    "                all_groups = match.groups()\n",
    "                result_strings.append('T' + ''.join(all_groups))  # Prepend 'T' and add to list\n",
    "    return ', '.join(result_strings) if result_strings else None  # Return concatenated results or None\n",
    "\n",
    "\n",
    "def exportExcel(dfAll, dfAbnormal, folderPath):\n",
    "  excel_file_path = Path(folderPath, 'exportOCR.xlsx')\n",
    "\n",
    "  # Write DataFrames to Excel file\n",
    "  with pd.ExcelWriter(excel_file_path) as writer:\n",
    "      dfAll.to_excel(writer, sheet_name='dfAll', index=False)\n",
    "      dfAbnormal.to_excel(writer, sheet_name='dfAbnormal', index=False)\n",
    "      print(\"Done\")\n",
    "   \n",
    "\n",
    "#=== main ===\n",
    "def getFilesText(folderPath):\n",
    "  dfAll = pd.DataFrame()\n",
    "  valid_extensions = {'.jpg', '.jpeg', '.png', '.pdf'}\n",
    "  for filePath in Path(folderPath).iterdir():\n",
    "    if filePath.is_file() and filePath.suffix.lower() in valid_extensions:  # Check if it's a file\n",
    "        print(f'scan filePath: {filePath}')\n",
    "        df = ocrDetection(str(filePath))\n",
    "        dfAll = pd.concat([dfAll, df], ignore_index = True)\n",
    "  dfAll['rec_texts'] = dfAll['rec_texts'].apply(lambda x: ', '.join(x))\n",
    "  # Apply the function to create the TreeID column\n",
    "  dfAll['TreeID'] = dfAll['rec_texts'].apply(extract_tree_id)\n",
    "\n",
    "  dfAbnormal = dfAll[dfAll['rec_texts'].str.contains(', ')]\n",
    "  \n",
    "  return dfAll, dfAbnormal\n",
    "\n",
    "\n",
    "if __name__ == \"__main__\":\n",
    "  msgbox = input('PhotoPath') #r'G:\\partTime\\Tsing yi Bi Monthly\\青衣 Bimonthly monitoring-20250821T081024Z-1-001\\青衣 Bimonthly monitoring\\202508_Monitoring\\Photo\\20250813_Mon_Ricky\\Raw'\n",
    "  folderPath = msgbox\n",
    "  dfAll, dfAbnormal = getFilesText(folderPath)\n",
    "  exportExcel(dfAll, dfAbnormal, folderPath)\n",
    "\n"
   ]
  }
 ],
 "metadata": {
  "kernelspec": {
   "display_name": ".venv",
   "language": "python",
   "name": "python3"
  },
  "language_info": {
   "codemirror_mode": {
    "name": "ipython",
    "version": 3
   },
   "file_extension": ".py",
   "mimetype": "text/x-python",
   "name": "python",
   "nbconvert_exporter": "python",
   "pygments_lexer": "ipython3",
   "version": "3.13.5"
  }
 },
 "nbformat": 4,
 "nbformat_minor": 5
}
