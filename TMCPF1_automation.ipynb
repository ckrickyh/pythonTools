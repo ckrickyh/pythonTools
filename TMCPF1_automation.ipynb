{
  "cells": [
    {
      "cell_type": "markdown",
      "metadata": {
        "id": "view-in-github",
        "colab_type": "text"
      },
      "source": [
        "<a href=\"https://colab.research.google.com/github/ckrickyh/pythonTools/blob/main/TMCPF1_automation.ipynb\" target=\"_parent\"><img src=\"https://colab.research.google.com/assets/colab-badge.svg\" alt=\"Open In Colab\"/></a>"
      ]
    },
    {
      "cell_type": "code",
      "execution_count": null,
      "id": "6c616eac",
      "metadata": {
        "id": "6c616eac"
      },
      "outputs": [],
      "source": [
        "import pyautogui as gui\n",
        "import time\n",
        "from datetime import datetime\n",
        "import pandas as pd\n",
        "import numpy as np\n",
        "import tkinter as tk\n",
        "from tkinter import messagebox\n",
        "from tkinter import filedialog\n",
        "import cv2\n",
        "import sys\n",
        "import os\n",
        "import gspread\n",
        "from gspread_dataframe import set_with_dataframe\n",
        "import socket\n",
        "#from PIL import ImageGrab\n",
        "#import pytesseract\n",
        "#from paddleocr import PaddleOCR"
      ]
    },
    {
      "cell_type": "code",
      "execution_count": null,
      "id": "de50c83e",
      "metadata": {
        "id": "de50c83e",
        "outputId": "c50a400a-1ffe-4ff0-9b70-97fe815ae3c8"
      },
      "outputs": [
        {
          "name": "stdout",
          "output_type": "stream",
          "text": [
            "Transforming Nature: The Revolution of HK Urban Forest Management\n"
          ]
        },
        {
          "data": {
            "text/plain": [
              "'\\npip install google-api-python-client google-auth-httplib2\\npyautogui == 0.9.54\\npandas == 2.3.1\\nnumpy == 2.2.6\\nopencv-python == 4.10.0\\nauto-py-to-exe == 2.46.0\\ngspread == 6.2.1\\n'"
            ]
          },
          "execution_count": 2,
          "metadata": {},
          "output_type": "execute_result"
        }
      ],
      "source": [
        "print(f'Transforming Nature: The Revolution of HK Urban Forest Management')\n",
        "#print(f'pyautogui == {gui.__version__}')\n",
        "#print(f'pandas == {pd.__version__}')\n",
        "#print(f'numpy == {np.__version__}')\n",
        "#print(f'opencv-python == {cv2.__version__}')\n",
        "#print(f'gspread == {gspread.__version__}')\n",
        "#print(f'google-api-python-client == {google-api-python-client.__version__}')\n",
        "#print(f'google-auth-httplib2 == {google-auth-httplib2.__version__}')\n",
        "\n",
        "'''\n",
        "pip install google-api-python-client google-auth-httplib2\n",
        "pyautogui == 0.9.54\n",
        "pandas == 2.3.1\n",
        "numpy == 2.2.6\n",
        "opencv-python == 4.10.0\n",
        "auto-py-to-exe == 2.46.0\n",
        "gspread == 6.2.1\n",
        "'''"
      ]
    },
    {
      "cell_type": "code",
      "execution_count": null,
      "id": "afa713f8",
      "metadata": {
        "scrolled": false,
        "id": "afa713f8"
      },
      "outputs": [],
      "source": [
        "# paddleOcr\n",
        "#https://www.paddleocr.ai/latest/quick_start.html#1-paddlepaddle\n",
        "#%pip install paddlepaddle==3.1.0 -i https://www.paddlepaddle.org.cn/packages/stable/cpu/\n",
        "#%pip install paddlepaddle-gpu==3.1.0 -i https://www.paddlepaddle.org.cn/packages/stable/cu118/\n",
        "#%pip uninstall paddlepaddle\n",
        "#%pip install paddleocr\n",
        "#%pip uninstall paddleocr"
      ]
    },
    {
      "cell_type": "markdown",
      "id": "d1c901d3",
      "metadata": {
        "id": "d1c901d3"
      },
      "source": [
        "# pyautogui Detect image"
      ]
    },
    {
      "cell_type": "code",
      "execution_count": null,
      "id": "156f1b58",
      "metadata": {
        "id": "156f1b58"
      },
      "outputs": [],
      "source": [
        "def resourcePath(relativePath):\n",
        "    try:\n",
        "        #pyinstaller temporary folder\n",
        "        base_path = sys._MEIPASS\n",
        "    except AttributeError:\n",
        "            base_path = os.path.abspath(\".\")\n",
        "    return os.path.join(base_path, relativePath)\n",
        "\n",
        "def detectImage(image):\n",
        "  config_path = resourcePath(image)\n",
        "  #config_path = image\n",
        "  imageLocation = None\n",
        "  maxTime = 60\n",
        "  startTime = time.time()\n",
        "\n",
        "  while time.time()-startTime < maxTime:\n",
        "    print(f\"Searching for image {image}...\")\n",
        "    try:\n",
        "      imageLocation = gui.locateCenterOnScreen(config_path, confidence=0.9)\n",
        "      if imageLocation:\n",
        "        print(\"image found\")\n",
        "        x = imageLocation.x\n",
        "        y = imageLocation.y\n",
        "        time.sleep(0.5)\n",
        "        break\n",
        "    except:\n",
        "      time.sleep(1)\n",
        "\n",
        "  if imageLocation is None:\n",
        "    print(f\"notFound image within {maxTime}s, Stop Program\")\n",
        "\n",
        "    messagebox.showwarning(\"Warning\", \"over 60s, stop program!\")\n",
        "    tk.destroy()\n",
        "    exit()\n",
        "\n",
        "  return x, y"
      ]
    },
    {
      "cell_type": "markdown",
      "id": "fd3b8107",
      "metadata": {
        "id": "fd3b8107"
      },
      "source": [
        "# Fundamental"
      ]
    },
    {
      "cell_type": "code",
      "execution_count": null,
      "id": "524ca453",
      "metadata": {
        "id": "524ca453"
      },
      "outputs": [],
      "source": [
        "# oop\n",
        "class OriginalScreen:\n",
        "    width = 2736\n",
        "    height = 1824\n",
        "\n",
        "    @staticmethod\n",
        "    def getWidth():\n",
        "        return OriginalScreen.width\n",
        "\n",
        "    @staticmethod\n",
        "    def getHeight():\n",
        "        return OriginalScreen.height\n",
        "\n",
        "\n",
        "class UserScreenSize:\n",
        "    @staticmethod\n",
        "    def getScreenSize():\n",
        "        return gui.size()\n",
        "\n",
        "    @staticmethod\n",
        "    def getWidth():\n",
        "        width, _ = UserScreenSize.getScreenSize()\n",
        "        return width\n",
        "\n",
        "    @staticmethod\n",
        "    def getHeight():\n",
        "        _, height = UserScreenSize.getScreenSize()\n",
        "        return height\n",
        "\n",
        "def relativeXY(x, y):\n",
        "    relativeX = x/OriginalScreen.getWidth() # static method => OriginalScreen.width(), instantace method => originalScreen().width\n",
        "    relativeY = y/OriginalScreen.getHeight()\n",
        "    userX = int(relativeX * UserScreenSize.getWidth())\n",
        "    userY = int(relativeY * UserScreenSize.getHeight())\n",
        "    #print(f'x:{userX}, y:{userY}')\n",
        "    return userX, userY\n",
        "\n",
        "# relative XY\n",
        "def click(x,y):\n",
        "    gui.click(relativeXY(x,y))\n",
        "    time.sleep(0.1)"
      ]
    },
    {
      "cell_type": "markdown",
      "id": "ed37191b",
      "metadata": {
        "id": "ed37191b"
      },
      "source": [
        "# Home"
      ]
    },
    {
      "cell_type": "code",
      "execution_count": null,
      "id": "1a27d2a5",
      "metadata": {
        "id": "1a27d2a5"
      },
      "outputs": [],
      "source": [
        "def clickF1():\n",
        "    click(1160,870)\n",
        "    time.sleep(0.5)\n",
        "\n",
        "def save():\n",
        "    x, y = detectImage('saveBtn.PNG')\n",
        "    click(x, y)\n",
        "    time.sleep(0.5)\n",
        "    x,y = detectImage('saveSuccessed.PNG')\n",
        "    click(x, y)\n",
        "    time.sleep(1)\n",
        "\n",
        "def close():\n",
        "    x, y = detectImage('closeBtn.PNG')\n",
        "    gui.click(x, y)\n",
        "    #click(2652, 62)\n",
        "    x, y = detectImage('saveAndExit.PNG')\n",
        "    click(x, y)\n",
        "    #gui.click(1038,997)\n",
        "    time.sleep(5)"
      ]
    },
    {
      "cell_type": "markdown",
      "id": "0198cade",
      "metadata": {
        "id": "0198cade"
      },
      "source": [
        "# General Information"
      ]
    },
    {
      "cell_type": "code",
      "execution_count": null,
      "id": "b8346414",
      "metadata": {
        "id": "b8346414"
      },
      "outputs": [],
      "source": [
        "# class General Information\n",
        "\n",
        "def clickNewF1():\n",
        "    time.sleep(1)\n",
        "    click(180, 140)\n",
        "    x, y = detectImage('addBtn.PNG')\n",
        "    click(x, y)\n",
        "    click(200,400)\n",
        "    x, y = detectImage('form1Title.PNG') #能否進入 General Information (save button)\n",
        "    print(\"clickNewF1 Done\")\n",
        "\n",
        "def wF1RefNo(f1RefNo):\n",
        "    click(447, 263)\n",
        "    gui.hotkey('ctrl', 'a', 'del')\n",
        "    gui.write(f1RefNo)\n",
        "    print(\"f1RefNo Done\")\n",
        "\n",
        "def wFileRef(fileRef):\n",
        "    if isinstance(fileRef, str):\n",
        "        click(1330, 986)\n",
        "        gui.write(fileRef)\n",
        "        time.sleep(0.5)\n",
        "        print(\"fileRef Done\")\n",
        "\n",
        "#special treatment (yyyy/dd/mm)\n",
        "def wDateOfInspection(dateOfInspection):\n",
        "    click(435, 1353)\n",
        "    gui.write(dateOfInspection, interval=0.02)\n",
        "    time.sleep(0.5)\n",
        "    print(\"dateOfInspection Done\")\n",
        "\n",
        "def wLastInspectionDate(lastInspectionDate):\n",
        "    if isinstance(lastInspectionDate, str):\n",
        "        click(1790, 1361)\n",
        "        time.sleep(0.5)\n",
        "        click(1252, 1679)\n",
        "        click(1330, 1363)\n",
        "        gui.write(lastInspectionDate, interval=0.02)\n",
        "        time.sleep(0.5)\n",
        "        print(\"lastInspectionDate Done\")\n",
        "\n",
        "#(L, 3, 6, 12, 24 , 36, 48, 60, ad)\n",
        "def wInspectionFreq(inspectionFreq):\n",
        "    if isinstance(inspectionFreq, str):\n",
        "        click(2269, 1358)\n",
        "        gui.write('a')\n",
        "        if inspectionFreq == '36':\n",
        "            gui.write('3')\n",
        "        gui.write(inspectionFreq[0])   #variable (text)\n",
        "        gui.press('enter')\n",
        "        time.sleep(0.5)\n",
        "        print(\"inspectionFreq Done\")"
      ]
    },
    {
      "cell_type": "markdown",
      "id": "413223f3",
      "metadata": {
        "id": "413223f3"
      },
      "source": [
        "# Main General Info"
      ]
    },
    {
      "cell_type": "code",
      "execution_count": null,
      "id": "7d519a87",
      "metadata": {
        "id": "7d519a87"
      },
      "outputs": [],
      "source": [
        "#General Information\n",
        "def generalInfo(f1RefNo, fileRef, dateOfInspection, lastInspectionDate, lnspectionFreq):\n",
        "    clickNewF1()\n",
        "    wF1RefNo(f1RefNo)\n",
        "    wFileRef(fileRef)\n",
        "    wDateOfInspection(dateOfInspection)\n",
        "    wLastInspectionDate(lastInspectionDate)\n",
        "    wInspectionFreq(lnspectionFreq)"
      ]
    },
    {
      "cell_type": "markdown",
      "id": "7e78c69a",
      "metadata": {
        "id": "7e78c69a"
      },
      "source": [
        "# Location info"
      ]
    },
    {
      "cell_type": "code",
      "execution_count": null,
      "id": "e2208654",
      "metadata": {
        "id": "e2208654"
      },
      "outputs": [],
      "source": [
        "# Location info\n",
        "\n",
        "# change to LocationInfo\n",
        "def wLocationInfo():\n",
        "    click(223, 47)\n",
        "    gui.write('l')\n",
        "    time.sleep(0.5)\n",
        "    print(\"locationInfo Done\")\n",
        "\n",
        "def wMasterZoneRef(masterZoneRef):\n",
        "    click(424, 253)\n",
        "    gui.write(masterZoneRef)\n",
        "    gui.press('enter')\n",
        "    gui.press('enter')\n",
        "    time.sleep(2)\n",
        "    print(\"masterZoneRef Done\")\n",
        "\n",
        "def wSubZoneRef(subZoneRef):\n",
        "    if isinstance(subZoneRef, str):\n",
        "        click(1440,262)\n",
        "        time.sleep(1)\n",
        "        gui.write(subZoneRef)\n",
        "        gui.press('enter')\n",
        "        time.sleep(1)\n",
        "        print(\"subZoneRef Done\")\n",
        "\n",
        "def wLampPost(lampPost):\n",
        "    if isinstance(lampPost, str):\n",
        "        click(2156, 749)\n",
        "        gui.write(lampPost)\n",
        "        time.sleep(0.5)\n",
        "        print(\"lp Done\")\n",
        "\n",
        "def wLocationTypes(locationTypes):\n",
        "    if isinstance(locationTypes, str):\n",
        "        locLst = locationTypes.split(',')\n",
        "\n",
        "        locTypeDict = {\n",
        "        'ROADSIDE': {'x': 29, 'y': 1077},\n",
        "        'PUBLICPARK': {'x': 895, 'y': 1077},\n",
        "        'CENTRALDIVIDER': {'x': 2180, 'y': 1077},\n",
        "        'HOUSING': {'x': 29, 'y': 1185},\n",
        "        'UNLEASED': {'x': 895, 'y': 1185},\n",
        "        'PLANTER': {'x': 2180, 'y': 1185},\n",
        "        'GOVERNMENT': {'x': 29, 'y': 1300},\n",
        "        'RECREATIONAL': {'x': 895, 'y': 1300},\n",
        "        'TREEPIT': {'x': 2180, 'y': 1300},\n",
        "        'SIMAR': {'x': 28, 'y': 1406},\n",
        "        'OTHERS': {'x': 28, 'y': 1524},\n",
        "        }\n",
        "\n",
        "        for loc in locLst:\n",
        "            if loc in locTypeDict:\n",
        "                originalX= locTypeDict[loc]['x']\n",
        "                originalY = locTypeDict[loc]['y']\n",
        "                xfinal, yfinal = relativeXY(originalX, originalY)\n",
        "                click(xfinal, yfinal)\n",
        "        print(\"locationTypes Done\")\n",
        "\n",
        "\n",
        "def wLocationTypeInfo(locationTypes, masterZoneRef, otherLocRemarks):\n",
        "    if isinstance(locationTypes, str):\n",
        "        locLst = locationTypes.split(',')\n",
        "        for loc in locLst:\n",
        "            if (loc == 'SIMAR'):\n",
        "                click(1057,1415)\n",
        "                gui.write(masterZoneRef)\n",
        "            if (loc == 'OTHERS') and isinstance(otherLocRemarks, str):\n",
        "                click(1092,1521)\n",
        "                gui.write(otherLocRemarks)\n",
        "        print(\"locationTypeInfo Done\")"
      ]
    },
    {
      "cell_type": "markdown",
      "id": "6722c5eb",
      "metadata": {
        "id": "6722c5eb"
      },
      "source": [
        "# Main Location Info"
      ]
    },
    {
      "cell_type": "code",
      "execution_count": null,
      "id": "4f1f0c5c",
      "metadata": {
        "id": "4f1f0c5c"
      },
      "outputs": [],
      "source": [
        "def locationInfo(masterZoneRef, subZoneRef, lampPost, locationTypes, otherLocRemarks):\n",
        "    wLocationInfo()\n",
        "    wMasterZoneRef(masterZoneRef)  # e.g., 'Kowloon Bay, Wang Chin Street'\n",
        "    wSubZoneRef(subZoneRef)          # e.g., '1 Wang Chin St, Kowloon Bay'\n",
        "    wLampPost(lampPost)              # e.g., lampPost variable\n",
        "    wLocationTypes(locationTypes)     # e.g., \"ROADSIDE,OTHERS\"\n",
        "    wLocationTypeInfo(locationTypes, masterZoneRef, otherLocRemarks)  # e.g., \"ROADSIDE,OTHERS\", \"11sw-cc/678\", \"hospital\"\n",
        "    save()\n",
        "    close()"
      ]
    },
    {
      "cell_type": "markdown",
      "id": "7152f84e",
      "metadata": {
        "id": "7152f84e"
      },
      "source": [
        "# Clean df"
      ]
    },
    {
      "cell_type": "code",
      "execution_count": null,
      "id": "fabc4de2",
      "metadata": {
        "id": "fabc4de2"
      },
      "outputs": [],
      "source": [
        "def cleanDf(dfForm1):\n",
        "    # trimTreatment\n",
        "    dfForm1 = dfForm1.applymap(lambda x: x.strip() if isinstance(x, str) else x)\n",
        "    # Clean cells that contain only whitespace\n",
        "    dfForm1 = dfForm1.applymap(lambda x: np.nan if isinstance(x, str) and x.strip() == \"\" else x)\n",
        "    # lowercase\n",
        "    dfForm1['inspectionFreq'] = dfForm1['inspectionFreq'].str.lower()\n",
        "    # uppercase\n",
        "    dfForm1['locationTypes'] = dfForm1['locationTypes'].str.upper().str.replace(\" \", \"\")\n",
        "    # dateTypeTreatment\n",
        "    dfForm1['dateOfInspection'] = pd.to_datetime(dfForm1['dateOfInspection'], errors='coerce')\n",
        "    dfForm1['dateOfInspection'] = dfForm1['dateOfInspection'].dt.strftime('%Y/%d/%m') # change to object\n",
        "    dfForm1['lastInspectionDate'] = pd.to_datetime(dfForm1['lastInspectionDate'], errors='coerce')\n",
        "    dfForm1['lastInspectionDate'] = dfForm1['lastInspectionDate'].dt.strftime('%Y/%d/%m') # change to object\n",
        "\n",
        "    return dfForm1"
      ]
    },
    {
      "cell_type": "markdown",
      "id": "acf41bbd",
      "metadata": {
        "id": "acf41bbd"
      },
      "source": [
        "# Check Empty"
      ]
    },
    {
      "cell_type": "code",
      "execution_count": null,
      "id": "73b887c3",
      "metadata": {
        "id": "73b887c3"
      },
      "outputs": [],
      "source": [
        "def checkEmptyZone(dfForm1):\n",
        "    #check null in masterZoneRef\n",
        "    null_masterZoneRef = dfForm1['masterZoneRef'].isnull().any()\n",
        "    empty_masterZoneRef = (dfForm1['masterZoneRef'] == '').any()\n",
        "    #null_subZoneRef = dfForm1['subZoneRef'].isnull().any()\n",
        "    #empty_subZoneRef = (dfForm1['subZoneRef'] == '').any()\n",
        "    contains_issue = null_masterZoneRef or empty_masterZoneRef #or null_subZoneRef or empty_subZoneRef\n",
        "\n",
        "    return contains_issue"
      ]
    },
    {
      "cell_type": "markdown",
      "id": "88188912",
      "metadata": {
        "id": "88188912"
      },
      "source": [
        "# Login"
      ]
    },
    {
      "cell_type": "code",
      "execution_count": null,
      "id": "8f0cd540",
      "metadata": {
        "id": "8f0cd540"
      },
      "outputs": [],
      "source": [
        "def validatePassword(password):\n",
        "    correct_password = getSpreadSheetPass()\n",
        "\n",
        "    if password == correct_password:\n",
        "        #messagebox.showinfo(\"Success\", \"Password is valid.\")\n",
        "        return True\n",
        "    else:\n",
        "        messagebox.showwarning(\"Warning\", \"Invalid password.\")\n",
        "        return False\n",
        "\n",
        "\n",
        "def getSpreadSheetPass():\n",
        "    # Construct the CSV export URL\n",
        "    sheet_id = '1D0PFsglD2u1H5Jhw5YHoqwcdbakf08nwimZQyRP-bBM'\n",
        "    worksheet_gid = '0' #'pass'\n",
        "    url = f\"https://docs.google.com/spreadsheets/d/{sheet_id}/export?format=csv&gid={worksheet_gid}\"\n",
        "\n",
        "    try:\n",
        "        dfPass = pd.read_csv(url)\n",
        "        print('sdfafdafdadfaf')\n",
        "        if dfPass.shape[0] == 0:\n",
        "            correct_password = \"4321\"\n",
        "        else:\n",
        "            correct_password = str(dfPass['Pass'][0])\n",
        "    except:\n",
        "        correct_password = \"4321\"\n",
        "\n",
        "    return correct_password"
      ]
    },
    {
      "cell_type": "markdown",
      "id": "8cbd1816",
      "metadata": {
        "id": "8cbd1816"
      },
      "source": [
        "# Usage Stat"
      ]
    },
    {
      "cell_type": "code",
      "execution_count": null,
      "id": "f71f559a",
      "metadata": {
        "id": "f71f559a"
      },
      "outputs": [],
      "source": [
        "#deperciated\n",
        "def ip():\n",
        "  hostName = socket.gethostname()\n",
        "  IPAddr = socket.gethostbyname(hostName)\n",
        "  return hostName , IPAddr"
      ]
    },
    {
      "cell_type": "code",
      "execution_count": null,
      "id": "94f5f2c5",
      "metadata": {
        "id": "94f5f2c5"
      },
      "outputs": [],
      "source": [
        "def getSpreadSheetUsage():\n",
        "    # Google Sheets ID and GID for the worksheet\n",
        "    sheet_id = '1JjGoI3l5xKnvMbxhipDUYuITDsLYtpf_FgMJIZSlWoE'\n",
        "    worksheet_gid = '0'  # Replace with the actual GID for the 'f1Usage' worksheet\n",
        "\n",
        "    # Construct the CSV export URL\n",
        "    url = f\"https://docs.google.com/spreadsheets/d/{sheet_id}/export?format=csv&gid={worksheet_gid}\"\n",
        "\n",
        "    # Load the data into a DataFrame\n",
        "    dfF1Usage = pd.read_csv(url)\n",
        "    usageVolume = len(dfF1Usage)\n",
        "\n",
        "    return usageVolume\n",
        "\n",
        "def writeDataToF1Temp(dfForm1):\n",
        "\n",
        "    #https://www.google.com/search?q=how+to+use+google+sheet+api+in+python&oq=how+to+use+google+sheet+api+&gs_lcrp=EgZjaHJvbWUqCAgBEAAYFhgeMgoIABBFGBYYHhg5MggIARAAGBYYHjIICAIQABgWGB4yCAgDEAAYFhgeMggIBBAAGBYYHjIICAUQABgWGB4yCAgGEAAYFhgeMggIBxAAGBYYHjIICAgQABgWGB4yCAgJEAAYFhge0gEJMTA3MDBqMGo3qAIAsAIA&sourceid=chrome&ie=UTF-8#fpstate=ive&vld=cid:9b2c2b8a,vid:zCEJurLGFRk,st:0\n",
        "\n",
        "    # Authenticate using the service account key file\n",
        "    path = resourcePath('python-447003-6d8f2815ca54.json')\n",
        "    gc = gspread.service_account(filename=path)\n",
        "    sheet_id = '1JjGoI3l5xKnvMbxhipDUYuITDsLYtpf_FgMJIZSlWoE'\n",
        "    worksheetName = 'f1Temp'\n",
        "    spreadsheet = gc.open_by_key(sheet_id)\n",
        "    worksheet = spreadsheet.worksheet(worksheetName)\n",
        "    worksheet.clear()\n",
        "\n",
        "    dfF1Temp = pd.DataFrame()\n",
        "    dfF1Temp['f1RefNo'] = dfForm1['f1RefNo']\n",
        "    dfF1Temp['masterZoneRef'] = dfForm1['masterZoneRef']\n",
        "    import datetime\n",
        "    dfF1Temp['time'] = datetime.datetime.now()\n",
        "    set_with_dataframe(worksheet=worksheet, dataframe=dfF1Temp, include_index=False, include_column_header=True, resize=True)\n",
        "    numForm1 = len(dfF1Temp)\n",
        "    return dfF1Temp\n",
        "\n",
        "def f1UsageUpdate(dfF1Temp):\n",
        "    path = resourcePath('python-447003-6d8f2815ca54.json')\n",
        "    gc = gspread.service_account(filename=path)\n",
        "    sheet_id = '1JjGoI3l5xKnvMbxhipDUYuITDsLYtpf_FgMJIZSlWoE'\n",
        "    worksheetName = 'f1Usage'\n",
        "    spreadsheet = gc.open_by_key(sheet_id)\n",
        "    worksheet = spreadsheet.worksheet(worksheetName)\n",
        "    existing_data = worksheet.get_all_values()\n",
        "    start_row = len(existing_data) + 1  # +1 to account for header\n",
        "    # Write the DataFrame to the worksheet starting from the next empty row\n",
        "    set_with_dataframe(worksheet=worksheet, dataframe=dfF1Temp, row=start_row, col=1, include_index=False, include_column_header=False)\n",
        "\n",
        "    #updatedExisting_data = worksheet.get_all_values()\n",
        "    #total_row = len(existing_data) + 1\n",
        "    #print(\"DataFrame appended to f1Usage successfully!\")"
      ]
    },
    {
      "cell_type": "markdown",
      "id": "ef4ed1df",
      "metadata": {
        "id": "ef4ed1df"
      },
      "source": [
        "# Main Load Excel"
      ]
    },
    {
      "cell_type": "code",
      "execution_count": null,
      "id": "e54f9ea4",
      "metadata": {
        "id": "e54f9ea4"
      },
      "outputs": [],
      "source": [
        "## =========================== main ===========================\n",
        "def loadTmcpExcel(filePath):\n",
        "    startTime = time.time()\n",
        "\n",
        "    try:\n",
        "        dfForm1 = pd.read_excel(filePath, sheet_name='generalInfo', \\\n",
        "                                dtype={'f1RefNo': str,'inspectionFreq': str, 'lampPost': str})\n",
        "        # r'C:\\Users\\Adm\\Desktop\\parttime\\tmcp\\form1TMCP.xlsx'\n",
        "        dfForm1 = cleanDf(dfForm1)\n",
        "        contains_issue = checkEmptyZone(dfForm1)\n",
        "\n",
        "        if (dfForm1.shape[0] == 0) or (contains_issue):\n",
        "\n",
        "            # tinker\n",
        "            messagebox.showwarning(\"Warning\", \"empty excel / missing masterZone / missing subZone !\")\n",
        "            #root.destroy()\n",
        "\n",
        "        else:\n",
        "            # looping\n",
        "            for index, row in dfForm1.iterrows():\n",
        "                print(row['f1RefNo'])\n",
        "                generalInfo(row['f1RefNo'], row['fileRef'], row['dateOfInspection'], row['lastInspectionDate'], row['inspectionFreq'])\n",
        "                locationInfo(row['masterZoneRef'], row['subZoneRef'], row['lampPost'], row['locationTypes'], row['otherLocRemarks'])\n",
        "\n",
        "            dfF1Temp = writeDataToF1Temp(dfForm1)\n",
        "            f1UsageUpdate(dfF1Temp)\n",
        "            totalRunTime = time.time()-startTime\n",
        "            messagebox.showwarning(\"Warning\", f\"completed. Total run time: {totalRunTime}\")\n",
        "            #root.destroy()\n",
        "            exit()\n",
        "\n",
        "    except Exception as e:\n",
        "        print(f\"An error occurred: {e}\")"
      ]
    },
    {
      "cell_type": "markdown",
      "id": "41a72f68",
      "metadata": {
        "id": "41a72f68"
      },
      "source": [
        "# Interface"
      ]
    },
    {
      "cell_type": "code",
      "execution_count": null,
      "id": "d8f4b4a8",
      "metadata": {
        "id": "d8f4b4a8",
        "outputId": "fa224973-e1b7-485a-95e9-16a9ae9ad630"
      },
      "outputs": [
        {
          "name": "stdout",
          "output_type": "stream",
          "text": [
            "sdfafdafdadfaf\n",
            "Start\n"
          ]
        },
        {
          "name": "stderr",
          "output_type": "stream",
          "text": [
            "C:\\Users\\Adm\\AppData\\Local\\Temp\\ipykernel_12028\\4258166088.py:3: FutureWarning: DataFrame.applymap has been deprecated. Use DataFrame.map instead.\n",
            "  dfForm1 = dfForm1.applymap(lambda x: x.strip() if isinstance(x, str) else x)\n",
            "C:\\Users\\Adm\\AppData\\Local\\Temp\\ipykernel_12028\\4258166088.py:5: FutureWarning: DataFrame.applymap has been deprecated. Use DataFrame.map instead.\n",
            "  dfForm1 = dfForm1.applymap(lambda x: np.nan if isinstance(x, str) and x.strip() == \"\" else x)\n"
          ]
        },
        {
          "name": "stdout",
          "output_type": "stream",
          "text": [
            "00190001\n",
            "Searching for image addBtn.PNG...\n",
            "image found\n",
            "Searching for image form1Title.PNG...\n",
            "Searching for image form1Title.PNG...\n",
            "Searching for image form1Title.PNG...\n",
            "Searching for image form1Title.PNG...\n",
            "Searching for image form1Title.PNG...\n",
            "Searching for image form1Title.PNG...\n",
            "Searching for image form1Title.PNG...\n",
            "Searching for image form1Title.PNG...\n",
            "Searching for image form1Title.PNG...\n",
            "Searching for image form1Title.PNG...\n",
            "Searching for image form1Title.PNG...\n",
            "image found\n",
            "clickNewF1 Done\n",
            "f1RefNo Done\n",
            "fileRef Done\n",
            "dateOfInspection Done\n",
            "lastInspectionDate Done\n",
            "inspectionFreq Done\n",
            "locationInfo Done\n",
            "masterZoneRef Done\n",
            "subZoneRef Done\n",
            "locationTypes Done\n",
            "locationTypeInfo Done\n",
            "Searching for image saveBtn.PNG...\n",
            "image found\n",
            "Searching for image saveSuccessed.PNG...\n",
            "image found\n",
            "Searching for image closeBtn.PNG...\n",
            "image found\n",
            "Searching for image saveAndExit.PNG...\n",
            "Searching for image saveAndExit.PNG...\n",
            "image found\n",
            "20000002\n",
            "Searching for image addBtn.PNG...\n",
            "image found\n",
            "Searching for image form1Title.PNG...\n",
            "Searching for image form1Title.PNG...\n",
            "Searching for image form1Title.PNG...\n",
            "Searching for image form1Title.PNG...\n",
            "Searching for image form1Title.PNG...\n",
            "Searching for image form1Title.PNG...\n",
            "image found\n",
            "clickNewF1 Done\n",
            "f1RefNo Done\n",
            "fileRef Done\n",
            "dateOfInspection Done\n",
            "lastInspectionDate Done\n",
            "inspectionFreq Done\n",
            "locationInfo Done\n",
            "masterZoneRef Done\n",
            "subZoneRef Done\n",
            "lp Done\n",
            "locationTypes Done\n",
            "locationTypeInfo Done\n",
            "Searching for image saveBtn.PNG...\n",
            "image found\n",
            "Searching for image saveSuccessed.PNG...\n",
            "image found\n",
            "Searching for image closeBtn.PNG...\n",
            "image found\n",
            "Searching for image saveAndExit.PNG...\n",
            "image found\n",
            "30008007\n",
            "Searching for image addBtn.PNG...\n",
            "image found\n",
            "Searching for image form1Title.PNG...\n",
            "Searching for image form1Title.PNG...\n",
            "Searching for image form1Title.PNG...\n",
            "Searching for image form1Title.PNG...\n",
            "image found\n",
            "clickNewF1 Done\n",
            "f1RefNo Done\n",
            "fileRef Done\n",
            "dateOfInspection Done\n",
            "lastInspectionDate Done\n",
            "inspectionFreq Done\n",
            "locationInfo Done\n",
            "masterZoneRef Done\n",
            "subZoneRef Done\n",
            "lp Done\n",
            "locationTypes Done\n",
            "locationTypeInfo Done\n",
            "Searching for image saveBtn.PNG...\n",
            "image found\n",
            "Searching for image saveSuccessed.PNG...\n",
            "image found\n",
            "Searching for image closeBtn.PNG...\n",
            "image found\n",
            "Searching for image saveAndExit.PNG...\n",
            "image found\n",
            "40100308\n",
            "Searching for image addBtn.PNG...\n",
            "image found\n",
            "Searching for image form1Title.PNG...\n",
            "Searching for image form1Title.PNG...\n",
            "Searching for image form1Title.PNG...\n",
            "Searching for image form1Title.PNG...\n",
            "Searching for image form1Title.PNG...\n",
            "image found\n",
            "clickNewF1 Done\n",
            "f1RefNo Done\n",
            "dateOfInspection Done\n",
            "lastInspectionDate Done\n",
            "inspectionFreq Done\n",
            "locationInfo Done\n",
            "masterZoneRef Done\n",
            "subZoneRef Done\n",
            "locationTypes Done\n",
            "locationTypeInfo Done\n",
            "Searching for image saveBtn.PNG...\n",
            "image found\n",
            "Searching for image saveSuccessed.PNG...\n",
            "image found\n",
            "Searching for image closeBtn.PNG...\n",
            "image found\n",
            "Searching for image saveAndExit.PNG...\n",
            "image found\n",
            "00330001\n",
            "Searching for image addBtn.PNG...\n",
            "image found\n",
            "Searching for image form1Title.PNG...\n",
            "Searching for image form1Title.PNG...\n",
            "Searching for image form1Title.PNG...\n",
            "Searching for image form1Title.PNG...\n",
            "Searching for image form1Title.PNG...\n",
            "Searching for image form1Title.PNG...\n",
            "Searching for image form1Title.PNG...\n",
            "Searching for image form1Title.PNG...\n",
            "Searching for image form1Title.PNG...\n",
            "Searching for image form1Title.PNG...\n",
            "image found\n",
            "clickNewF1 Done\n",
            "f1RefNo Done\n",
            "dateOfInspection Done\n",
            "lastInspectionDate Done\n",
            "inspectionFreq Done\n",
            "locationInfo Done\n",
            "masterZoneRef Done\n",
            "subZoneRef Done\n",
            "lp Done\n",
            "locationTypes Done\n",
            "locationTypeInfo Done\n",
            "Searching for image saveBtn.PNG...\n",
            "image found\n",
            "Searching for image saveSuccessed.PNG...\n",
            "image found\n",
            "Searching for image closeBtn.PNG...\n",
            "image found\n",
            "Searching for image saveAndExit.PNG...\n",
            "image found\n"
          ]
        },
        {
          "ename": "",
          "evalue": "",
          "output_type": "error",
          "traceback": [
            "\u001b[1;31mThe Kernel crashed while executing code in the current cell or a previous cell. \n",
            "\u001b[1;31mPlease review the code in the cell(s) to identify a possible cause of the failure. \n",
            "\u001b[1;31mClick <a href='https://aka.ms/vscodeJupyterKernelCrash'>here</a> for more info. \n",
            "\u001b[1;31mView Jupyter <a href='command:jupyter.viewOutput'>log</a> for further details."
          ]
        }
      ],
      "source": [
        "def on_button_release(event):\n",
        "    # Minimize or hide the interface after the button is released\n",
        "    root.withdraw()  # Use iconify() to minimize instead\n",
        "\n",
        "def submit():\n",
        "    #filePath = filePath_entry.get()\n",
        "    filePath = browseFile_entry.get()\n",
        "    password = str(password_entry.get())\n",
        "\n",
        "    #correct_password = \"4321\"\n",
        "    validateResult = validatePassword(password)\n",
        "\n",
        "    current_date = datetime.now().strftime(\"%Y%m%d\")\n",
        "    target_date = \"20261130\"\n",
        "\n",
        "    if (current_date <= target_date):\n",
        "        if validateResult:\n",
        "            #start program\n",
        "            print(\"Start\")\n",
        "            loadTmcpExcel(filePath)\n",
        "            root.destroy()\n",
        "            #exit()\n",
        "    else:\n",
        "        messagebox.showerror(\"Warning\", \"Incorrect Password, retry\")\n",
        "        root.destroy()\n",
        "        #exit()\n",
        "\n",
        "def browse_file():\n",
        "    filename = filedialog.askopenfilename()  # Open file dialog\n",
        "    browseFile_entry.delete(0, tk.END)  # Clear current entry\n",
        "    browseFile_entry.insert(0, filename)  # Insert the selected file path\n",
        "\n",
        "# Create the main application window\n",
        "root = tk.Tk()\n",
        "root.title(\"FilePath and Password\")\n",
        "\n",
        "# Get screen dimensions\n",
        "screen_width = root.winfo_screenwidth()\n",
        "screen_height = root.winfo_screenheight()\n",
        "\n",
        "# Display screen dimensions\n",
        "dimension_label = tk.Label(root, text=f\"Screen dimensions: {screen_width} x {screen_height}\")\n",
        "dimension_label.pack(pady=5)\n",
        "\n",
        "#tk.Label(root, text=\"Enter file full path:\").pack(pady=5)\n",
        "#filePath_entry = tk.Entry(root, width = 60)\n",
        "#filePath_entry.pack(pady = 5)\n",
        "\n",
        "# Create a browse view\n",
        "tk.Label(root, text=\"Enter file full path:\").pack(pady=5)\n",
        "browseFile_entry = tk.Entry(root, width=60)\n",
        "browseFile_entry.pack(pady=5)\n",
        "\n",
        "# Create a browse button\n",
        "browse_button = tk.Button(root, text=\"Browse\", command=browse_file)\n",
        "browse_button.pack(pady=5)\n",
        "\n",
        "tk.Label(root, text=\"Enter Passowrd:\").pack(pady=5)\n",
        "password_entry = tk.Entry(root, show=\"*\", width = 60)\n",
        "password_entry.pack(pady = 5)\n",
        "\n",
        "# Create a button to start the process\n",
        "submit_button = tk.Button(root, text=\"Submit\", command = submit)\n",
        "submit_button.pack(pady=20)\n",
        "\n",
        "# Bind the button release event to the on_button_release function\n",
        "submit_button.bind(\"<ButtonRelease-1>\", on_button_release) # def on_button_release\n",
        "usageVolume = getSpreadSheetUsage()\n",
        "signature_label = tk.Label(root, text=f\"Developed by Dev-Intelligent Arborist. Usage Volume: {usageVolume}\")\n",
        "signature_label.pack(pady=5)\n",
        "\n",
        "\n",
        "# Start the GUI main loop\n",
        "root.mainloop()\n",
        "\n",
        "#加密\n",
        "#https://comate.baidu.com/zh/page/9mb6z7ac6mi\n",
        "#download upx win64\n",
        "# cmd negative to the upx folder , then run below in cmd\n",
        "#C:\\Users\\Adm\\Desktop\\parttime\\upx-5.0.2-win64\\upx-5.0.2-win64\n",
        "#upx --best --lzma --force C:\\Users\\Adm\\Desktop\\parttime\\tmcp\\PCMT.exe"
      ]
    }
  ],
  "metadata": {
    "kernelspec": {
      "display_name": ".venv",
      "language": "python",
      "name": "python3"
    },
    "language_info": {
      "codemirror_mode": {
        "name": "ipython",
        "version": 3
      },
      "file_extension": ".py",
      "mimetype": "text/x-python",
      "name": "python",
      "nbconvert_exporter": "python",
      "pygments_lexer": "ipython3",
      "version": "3.13.5"
    },
    "colab": {
      "provenance": [],
      "toc_visible": true,
      "include_colab_link": true
    }
  },
  "nbformat": 4,
  "nbformat_minor": 5
}